{
 "cells": [
  {
   "cell_type": "markdown",
   "metadata": {
    "collapsed": true
   },
   "source": [
    "# Language Translation\n",
    "In this project, you’re going to take a peek into the realm of neural network machine translation.  You’ll be training a sequence to sequence model on a dataset of English and French sentences that can translate new sentences from English to French.\n",
    "## Get the Data\n",
    "Since translating the whole language of English to French will take lots of time to train, we have provided you with a small portion of the English corpus."
   ]
  },
  {
   "cell_type": "code",
   "execution_count": 1,
   "metadata": {
    "collapsed": true
   },
   "outputs": [],
   "source": [
    "\"\"\"\n",
    "DON'T MODIFY ANYTHING IN THIS CELL\n",
    "\"\"\"\n",
    "import helper\n",
    "import problem_unittests as tests\n",
    "\n",
    "source_path = 'data/small_vocab_en'\n",
    "target_path = 'data/small_vocab_fr'\n",
    "source_text = helper.load_data(source_path)\n",
    "target_text = helper.load_data(target_path)"
   ]
  },
  {
   "cell_type": "markdown",
   "metadata": {},
   "source": [
    "## Explore the Data\n",
    "Play around with view_sentence_range to view different parts of the data."
   ]
  },
  {
   "cell_type": "code",
   "execution_count": 2,
   "metadata": {},
   "outputs": [
    {
     "name": "stdout",
     "output_type": "stream",
     "text": [
      "Dataset Stats\n",
      "Roughly the number of unique words: 227\n",
      "Number of sentences: 137861\n",
      "Average number of words in a sentence: 13.225277634719028\n",
      "\n",
      "English sentences 0 to 10:\n",
      "new jersey is sometimes quiet during autumn , and it is snowy in april .\n",
      "the united states is usually chilly during july , and it is usually freezing in november .\n",
      "california is usually quiet during march , and it is usually hot in june .\n",
      "the united states is sometimes mild during june , and it is cold in september .\n",
      "your least liked fruit is the grape , but my least liked is the apple .\n",
      "his favorite fruit is the orange , but my favorite is the grape .\n",
      "paris is relaxing during december , but it is usually chilly in july .\n",
      "new jersey is busy during spring , and it is never hot in march .\n",
      "our least liked fruit is the lemon , but my least liked is the grape .\n",
      "the united states is sometimes busy during january , and it is sometimes warm in november .\n",
      "\n",
      "French sentences 0 to 10:\n",
      "new jersey est parfois calme pendant l' automne , et il est neigeux en avril .\n",
      "les états-unis est généralement froid en juillet , et il gèle habituellement en novembre .\n",
      "california est généralement calme en mars , et il est généralement chaud en juin .\n",
      "les états-unis est parfois légère en juin , et il fait froid en septembre .\n",
      "votre moins aimé fruit est le raisin , mais mon moins aimé est la pomme .\n",
      "son fruit préféré est l'orange , mais mon préféré est le raisin .\n",
      "paris est relaxant en décembre , mais il est généralement froid en juillet .\n",
      "new jersey est occupé au printemps , et il est jamais chaude en mars .\n",
      "notre fruit est moins aimé le citron , mais mon moins aimé est le raisin .\n",
      "les états-unis est parfois occupé en janvier , et il est parfois chaud en novembre .\n"
     ]
    }
   ],
   "source": [
    "view_sentence_range = (0, 10)\n",
    "\n",
    "\"\"\"\n",
    "DON'T MODIFY ANYTHING IN THIS CELL\n",
    "\"\"\"\n",
    "import numpy as np\n",
    "\n",
    "print('Dataset Stats')\n",
    "print('Roughly the number of unique words: {}'.format(len({word: None for word in source_text.split()})))\n",
    "\n",
    "sentences = source_text.split('\\n')\n",
    "word_counts = [len(sentence.split()) for sentence in sentences]\n",
    "print('Number of sentences: {}'.format(len(sentences)))\n",
    "print('Average number of words in a sentence: {}'.format(np.average(word_counts)))\n",
    "\n",
    "print()\n",
    "print('English sentences {} to {}:'.format(*view_sentence_range))\n",
    "print('\\n'.join(source_text.split('\\n')[view_sentence_range[0]:view_sentence_range[1]]))\n",
    "print()\n",
    "print('French sentences {} to {}:'.format(*view_sentence_range))\n",
    "print('\\n'.join(target_text.split('\\n')[view_sentence_range[0]:view_sentence_range[1]]))"
   ]
  },
  {
   "cell_type": "markdown",
   "metadata": {},
   "source": [
    "## Implement Preprocessing Function\n",
    "### Text to Word Ids\n",
    "As you did with other RNNs, you must turn the text into a number so the computer can understand it. In the function `text_to_ids()`, you'll turn `source_text` and `target_text` from words to ids.  However, you need to add the `<EOS>` word id at the end of `target_text`.  This will help the neural network predict when the sentence should end.\n",
    "\n",
    "You can get the `<EOS>` word id by doing:\n",
    "```python\n",
    "target_vocab_to_int['<EOS>']\n",
    "```\n",
    "You can get other word ids using `source_vocab_to_int` and `target_vocab_to_int`."
   ]
  },
  {
   "cell_type": "code",
   "execution_count": 3,
   "metadata": {},
   "outputs": [
    {
     "name": "stdout",
     "output_type": "stream",
     "text": [
      "Tests Passed\n"
     ]
    }
   ],
   "source": [
    "def text_to_ids(source_text, target_text, source_vocab_to_int, target_vocab_to_int):\n",
    "    \"\"\"\n",
    "    Convert source and target text to proper word ids\n",
    "    :param source_text: String that contains all the source text.\n",
    "    :param target_text: String that contains all the target text.\n",
    "    :param source_vocab_to_int: Dictionary to go from the source words to an id\n",
    "    :param target_vocab_to_int: Dictionary to go from the target words to an id\n",
    "    :return: A tuple of lists (source_id_text, target_id_text)\n",
    "    \"\"\"\n",
    "    \n",
    "    source_id_text = []\n",
    "    \n",
    "    source_word_id = 1\n",
    "    for source_sentence in source_text.split('\\n'):\n",
    "        source_sentence_id_text = []\n",
    "        for source_word in source_sentence.split():\n",
    "            if source_word not in source_vocab_to_int:\n",
    "                source_vocab_to_int[source_word] = source_word_id\n",
    "                source_word_id += 1\n",
    "                \n",
    "            source_sentence_id_text.append(source_vocab_to_int[source_word])\n",
    "            \n",
    "        source_id_text.append(source_sentence_id_text)\n",
    "    \n",
    "    target_id_text = []\n",
    "    target_vocab_to_int['<EOS>'] = 1\n",
    "    \n",
    "    target_word_id = 2\n",
    "    for target_sentence in target_text.split('\\n'):\n",
    "        target_sentence_id_text = []\n",
    "        for target_word in target_sentence.split():\n",
    "            if target_word not in target_vocab_to_int:\n",
    "                target_vocab_to_int[target_word] = target_word_id\n",
    "                target_word_id += 1\n",
    "                \n",
    "            target_sentence_id_text.append(target_vocab_to_int[target_word])\n",
    "            \n",
    "        target_sentence_id_text.append(target_vocab_to_int['<EOS>'])\n",
    "        target_id_text.append(target_sentence_id_text)\n",
    "        \n",
    "    \n",
    "    return source_id_text, target_id_text\n",
    "\n",
    "\"\"\"\n",
    "DON'T MODIFY ANYTHING IN THIS CELL THAT IS BELOW THIS LINE\n",
    "\"\"\"\n",
    "tests.test_text_to_ids(text_to_ids)"
   ]
  },
  {
   "cell_type": "markdown",
   "metadata": {},
   "source": [
    "### Preprocess all the data and save it\n",
    "Running the code cell below will preprocess all the data and save it to file."
   ]
  },
  {
   "cell_type": "code",
   "execution_count": 4,
   "metadata": {
    "collapsed": true
   },
   "outputs": [],
   "source": [
    "\"\"\"\n",
    "DON'T MODIFY ANYTHING IN THIS CELL\n",
    "\"\"\"\n",
    "helper.preprocess_and_save_data(source_path, target_path, text_to_ids)"
   ]
  },
  {
   "cell_type": "markdown",
   "metadata": {},
   "source": [
    "# Check Point\n",
    "This is your first checkpoint. If you ever decide to come back to this notebook or have to restart the notebook, you can start from here. The preprocessed data has been saved to disk."
   ]
  },
  {
   "cell_type": "code",
   "execution_count": 5,
   "metadata": {
    "collapsed": true
   },
   "outputs": [],
   "source": [
    "\"\"\"\n",
    "DON'T MODIFY ANYTHING IN THIS CELL\n",
    "\"\"\"\n",
    "import numpy as np\n",
    "import helper\n",
    "\n",
    "(source_int_text, target_int_text), (source_vocab_to_int, target_vocab_to_int), _ = helper.load_preprocess()"
   ]
  },
  {
   "cell_type": "markdown",
   "metadata": {},
   "source": [
    "### Check the Version of TensorFlow and Access to GPU\n",
    "This will check to make sure you have the correct version of TensorFlow and access to a GPU"
   ]
  },
  {
   "cell_type": "code",
   "execution_count": 6,
   "metadata": {},
   "outputs": [
    {
     "name": "stdout",
     "output_type": "stream",
     "text": [
      "TensorFlow Version: 1.1.0\n",
      "Default GPU Device: /gpu:0\n"
     ]
    }
   ],
   "source": [
    "\"\"\"\n",
    "DON'T MODIFY ANYTHING IN THIS CELL\n",
    "\"\"\"\n",
    "from distutils.version import LooseVersion\n",
    "import warnings\n",
    "import tensorflow as tf\n",
    "from tensorflow.python.layers.core import Dense\n",
    "\n",
    "# Check TensorFlow Version\n",
    "assert LooseVersion(tf.__version__) >= LooseVersion('1.1'), 'Please use TensorFlow version 1.1 or newer'\n",
    "print('TensorFlow Version: {}'.format(tf.__version__))\n",
    "\n",
    "# Check for a GPU\n",
    "if not tf.test.gpu_device_name():\n",
    "    warnings.warn('No GPU found. Please use a GPU to train your neural network.')\n",
    "else:\n",
    "    print('Default GPU Device: {}'.format(tf.test.gpu_device_name()))"
   ]
  },
  {
   "cell_type": "markdown",
   "metadata": {},
   "source": [
    "## Build the Neural Network\n",
    "You'll build the components necessary to build a Sequence-to-Sequence model by implementing the following functions below:\n",
    "- `model_inputs`\n",
    "- `process_decoder_input`\n",
    "- `encoding_layer`\n",
    "- `decoding_layer_train`\n",
    "- `decoding_layer_infer`\n",
    "- `decoding_layer`\n",
    "- `seq2seq_model`\n",
    "\n",
    "### Input\n",
    "Implement the `model_inputs()` function to create TF Placeholders for the Neural Network. It should create the following placeholders:\n",
    "\n",
    "- Input text placeholder named \"input\" using the TF Placeholder name parameter with rank 2.\n",
    "- Targets placeholder with rank 2.\n",
    "- Learning rate placeholder with rank 0.\n",
    "- Keep probability placeholder named \"keep_prob\" using the TF Placeholder name parameter with rank 0.\n",
    "- Target sequence length placeholder named \"target_sequence_length\" with rank 1\n",
    "- Max target sequence length tensor named \"max_target_len\" getting its value from applying tf.reduce_max on the target_sequence_length placeholder. Rank 0.\n",
    "- Source sequence length placeholder named \"source_sequence_length\" with rank 1\n",
    "\n",
    "Return the placeholders in the following the tuple (input, targets, learning rate, keep probability, target sequence length, max target sequence length, source sequence length)"
   ]
  },
  {
   "cell_type": "code",
   "execution_count": 7,
   "metadata": {},
   "outputs": [
    {
     "name": "stdout",
     "output_type": "stream",
     "text": [
      "Tests Passed\n"
     ]
    }
   ],
   "source": [
    "def model_inputs():\n",
    "    \"\"\"\n",
    "    Create TF Placeholders for input, targets, learning rate, and lengths of source and target sequences.\n",
    "    :return: Tuple (input, targets, learning rate, keep probability, target sequence length,\n",
    "    max target sequence length, source sequence length)\n",
    "    \"\"\"\n",
    "    input_ = tf.placeholder(tf.int32, [None, None], name = 'input')\n",
    "    targets = tf.placeholder(tf.int32, [None, None])\n",
    "    learning_rate = tf.placeholder(tf.float32, [])\n",
    "    keep_probability = tf.placeholder(tf.float32, [], name = 'keep_prob')\n",
    "    target_sequence_length = tf.placeholder(tf.int32, [None], name = 'target_sequence_length')\n",
    "    max_target_len = tf.reduce_max(target_sequence_length, name = 'max_target_len')\n",
    "    source_sequence_length = tf.placeholder(tf.int32, [None], name = 'source_sequence_length')\n",
    "    \n",
    "    return input_, targets, learning_rate, keep_probability, target_sequence_length, max_target_len, source_sequence_length\n",
    "\n",
    "\n",
    "\"\"\"\n",
    "DON'T MODIFY ANYTHING IN THIS CELL THAT IS BELOW THIS LINE\n",
    "\"\"\"\n",
    "tests.test_model_inputs(model_inputs)"
   ]
  },
  {
   "cell_type": "markdown",
   "metadata": {},
   "source": [
    "### Process Decoder Input\n",
    "Implement `process_decoder_input` by removing the last word id from each batch in `target_data` and concat the GO ID to the begining of each batch."
   ]
  },
  {
   "cell_type": "code",
   "execution_count": 8,
   "metadata": {},
   "outputs": [
    {
     "name": "stdout",
     "output_type": "stream",
     "text": [
      "Tests Passed\n"
     ]
    }
   ],
   "source": [
    "def process_decoder_input(target_data, target_vocab_to_int, batch_size):\n",
    "    \"\"\"\n",
    "    Preprocess target data for encoding\n",
    "    :param target_data: Target Placehoder\n",
    "    :param target_vocab_to_int: Dictionary to go from the target words to an id\n",
    "    :param batch_size: Batch Size\n",
    "    :return: Preprocessed target data\n",
    "    \"\"\"\n",
    "    preprocessed_target_data = target_data[:,0:-1]\n",
    "    preprocessed_target_data = tf.concat(\n",
    "        [\n",
    "            [[target_vocab_to_int['<GO>']] for _ in range(batch_size)],\n",
    "            preprocessed_target_data\n",
    "        ],\n",
    "        axis = 1\n",
    "    )\n",
    "    return preprocessed_target_data\n",
    "\n",
    "\"\"\"\n",
    "DON'T MODIFY ANYTHING IN THIS CELL THAT IS BELOW THIS LINE\n",
    "\"\"\"\n",
    "tests.test_process_encoding_input(process_decoder_input)"
   ]
  },
  {
   "cell_type": "markdown",
   "metadata": {},
   "source": [
    "### Encoding\n",
    "Implement `encoding_layer()` to create a Encoder RNN layer:\n",
    " * Embed the encoder input using [`tf.contrib.layers.embed_sequence`](https://www.tensorflow.org/api_docs/python/tf/contrib/layers/embed_sequence)\n",
    " * Construct a [stacked](https://github.com/tensorflow/tensorflow/blob/6947f65a374ebf29e74bb71e36fd82760056d82c/tensorflow/docs_src/tutorials/recurrent.md#stacking-multiple-lstms) [`tf.contrib.rnn.LSTMCell`](https://www.tensorflow.org/api_docs/python/tf/contrib/rnn/LSTMCell) wrapped in a [`tf.contrib.rnn.DropoutWrapper`](https://www.tensorflow.org/api_docs/python/tf/contrib/rnn/DropoutWrapper)\n",
    " * Pass cell and embedded input to [`tf.nn.dynamic_rnn()`](https://www.tensorflow.org/api_docs/python/tf/nn/dynamic_rnn)"
   ]
  },
  {
   "cell_type": "code",
   "execution_count": 9,
   "metadata": {
    "scrolled": false
   },
   "outputs": [
    {
     "name": "stdout",
     "output_type": "stream",
     "text": [
      "Tests Passed\n"
     ]
    }
   ],
   "source": [
    "from imp import reload\n",
    "reload(tests)\n",
    "\n",
    "def encoding_layer(rnn_inputs, rnn_size, num_layers, keep_prob, \n",
    "                   source_sequence_length, source_vocab_size, \n",
    "                   encoding_embedding_size):\n",
    "    \"\"\"\n",
    "    Create encoding layer\n",
    "    :param rnn_inputs: Inputs for the RNN\n",
    "    :param rnn_size: RNN Size\n",
    "    :param num_layers: Number of layers\n",
    "    :param keep_prob: Dropout keep probability\n",
    "    :param source_sequence_length: a list of the lengths of each sequence in the batch\n",
    "    :param source_vocab_size: vocabulary size of source data\n",
    "    :param encoding_embedding_size: embedding size of source data\n",
    "    :return: tuple (RNN output, RNN state)\n",
    "    \"\"\"\n",
    "    \n",
    "    word_vectors = tf.contrib.layers.embed_sequence(rnn_inputs,\n",
    "                                                    vocab_size=source_vocab_size,\n",
    "                                                    embed_dim=encoding_embedding_size)\n",
    "    cells = []\n",
    "    for layer in range(num_layers):\n",
    "        lstm_cell = tf.contrib.rnn.LSTMCell(rnn_size, initializer=tf.random_uniform_initializer(-0.1, 0.1))\n",
    "        lstm_cell = tf.contrib.rnn.DropoutWrapper(lstm_cell, input_keep_prob=keep_prob)\n",
    "        cells.append(lstm_cell)\n",
    "        \n",
    "    cell = tf.contrib.rnn.MultiRNNCell(cells)\n",
    "    \n",
    "    outputs, state = tf.nn.dynamic_rnn(cell,\n",
    "                                       word_vectors,\n",
    "                                       sequence_length=source_sequence_length,\n",
    "                                       dtype=tf.float32)\n",
    "    return outputs, state\n",
    "\n",
    "\"\"\"\n",
    "DON'T MODIFY ANYTHING IN THIS CELL THAT IS BELOW THIS LINE\n",
    "\"\"\"\n",
    "tests.test_encoding_layer(encoding_layer)"
   ]
  },
  {
   "cell_type": "markdown",
   "metadata": {},
   "source": [
    "### Decoding - Training\n",
    "Create a training decoding layer:\n",
    "* Create a [`tf.contrib.seq2seq.TrainingHelper`](https://www.tensorflow.org/api_docs/python/tf/contrib/seq2seq/TrainingHelper) \n",
    "* Create a [`tf.contrib.seq2seq.BasicDecoder`](https://www.tensorflow.org/api_docs/python/tf/contrib/seq2seq/BasicDecoder)\n",
    "* Obtain the decoder outputs from [`tf.contrib.seq2seq.dynamic_decode`](https://www.tensorflow.org/api_docs/python/tf/contrib/seq2seq/dynamic_decode)"
   ]
  },
  {
   "cell_type": "code",
   "execution_count": 10,
   "metadata": {},
   "outputs": [
    {
     "name": "stdout",
     "output_type": "stream",
     "text": [
      "Tests Passed\n"
     ]
    }
   ],
   "source": [
    "\n",
    "def decoding_layer_train(encoder_state, dec_cell, dec_embed_input, \n",
    "                         target_sequence_length, max_summary_length, \n",
    "                         output_layer, keep_prob):\n",
    "    \"\"\"\n",
    "    Create a decoding layer for training\n",
    "    :param encoder_state: Encoder State\n",
    "    :param dec_cell: Decoder RNN Cell\n",
    "    :param dec_embed_input: Decoder embedded input\n",
    "    :param target_sequence_length: The lengths of each sequence in the target batch\n",
    "    :param max_summary_length: The length of the longest sequence in the batch\n",
    "    :param output_layer: Function to apply the output layer\n",
    "    :param keep_prob: Dropout keep probability\n",
    "    :return: BasicDecoderOutput containing training logits and sample_id\n",
    "    \"\"\"\n",
    "    training_helper = tf.contrib.seq2seq.TrainingHelper(dec_embed_input, sequence_length=target_sequence_length)\n",
    "    decoder = tf.contrib.seq2seq.BasicDecoder(dec_cell, training_helper, encoder_state, output_layer=output_layer)\n",
    "    output = tf.contrib.seq2seq.dynamic_decode(decoder, maximum_iterations=max_summary_length)\n",
    "    \n",
    "    return output[0]\n",
    "\n",
    "\n",
    "\n",
    "\"\"\"\n",
    "DON'T MODIFY ANYTHING IN THIS CELL THAT IS BELOW THIS LINE\n",
    "\"\"\"\n",
    "tests.test_decoding_layer_train(decoding_layer_train)"
   ]
  },
  {
   "cell_type": "markdown",
   "metadata": {},
   "source": [
    "### Decoding - Inference\n",
    "Create inference decoder:\n",
    "* Create a [`tf.contrib.seq2seq.GreedyEmbeddingHelper`](https://www.tensorflow.org/api_docs/python/tf/contrib/seq2seq/GreedyEmbeddingHelper)\n",
    "* Create a [`tf.contrib.seq2seq.BasicDecoder`](https://www.tensorflow.org/api_docs/python/tf/contrib/seq2seq/BasicDecoder)\n",
    "* Obtain the decoder outputs from [`tf.contrib.seq2seq.dynamic_decode`](https://www.tensorflow.org/api_docs/python/tf/contrib/seq2seq/dynamic_decode)"
   ]
  },
  {
   "cell_type": "code",
   "execution_count": 11,
   "metadata": {
    "scrolled": true
   },
   "outputs": [
    {
     "name": "stdout",
     "output_type": "stream",
     "text": [
      "Tests Passed\n"
     ]
    }
   ],
   "source": [
    "def decoding_layer_infer(encoder_state, dec_cell, dec_embeddings, start_of_sequence_id,\n",
    "                         end_of_sequence_id, max_target_sequence_length,\n",
    "                         vocab_size, output_layer, batch_size, keep_prob):\n",
    "    \"\"\"\n",
    "    Create a decoding layer for inference\n",
    "    :param encoder_state: Encoder state\n",
    "    :param dec_cell: Decoder RNN Cell\n",
    "    :param dec_embeddings: Decoder embeddings\n",
    "    :param start_of_sequence_id: GO ID\n",
    "    :param end_of_sequence_id: EOS Id\n",
    "    :param max_target_sequence_length: Maximum length of target sequences\n",
    "    :param vocab_size: Size of decoder/target vocabulary\n",
    "    :param decoding_scope: TenorFlow Variable Scope for decoding\n",
    "    :param output_layer: Function to apply the output layer\n",
    "    :param batch_size: Batch size\n",
    "    :param keep_prob: Dropout keep probability\n",
    "    :return: BasicDecoderOutput containing inference logits and sample_id\n",
    "    \"\"\"\n",
    "    embedding_helper = tf.contrib.seq2seq.GreedyEmbeddingHelper(dec_embeddings,\n",
    "                                             [start_of_sequence_id] * batch_size,\n",
    "                                             end_of_sequence_id)\n",
    "    decoder = tf.contrib.seq2seq.BasicDecoder(dec_cell, embedding_helper, encoder_state, output_layer=output_layer)\n",
    "    output = tf.contrib.seq2seq.dynamic_decode(decoder, maximum_iterations=max_target_sequence_length)\n",
    "    return output[0]\n",
    "\n",
    "\n",
    "\n",
    "\"\"\"\n",
    "DON'T MODIFY ANYTHING IN THIS CELL THAT IS BELOW THIS LINE\n",
    "\"\"\"\n",
    "tests.test_decoding_layer_infer(decoding_layer_infer)"
   ]
  },
  {
   "cell_type": "markdown",
   "metadata": {},
   "source": [
    "### Build the Decoding Layer\n",
    "Implement `decoding_layer()` to create a Decoder RNN layer.\n",
    "\n",
    "* Embed the target sequences\n",
    "* Construct the decoder LSTM cell (just like you constructed the encoder cell above)\n",
    "* Create an output layer to map the outputs of the decoder to the elements of our vocabulary\n",
    "* Use the your `decoding_layer_train(encoder_state, dec_cell, dec_embed_input, target_sequence_length, max_target_sequence_length, output_layer, keep_prob)` function to get the training logits.\n",
    "* Use your `decoding_layer_infer(encoder_state, dec_cell, dec_embeddings, start_of_sequence_id, end_of_sequence_id, max_target_sequence_length, vocab_size, output_layer, batch_size, keep_prob)` function to get the inference logits.\n",
    "\n",
    "Note: You'll need to use [tf.variable_scope](https://www.tensorflow.org/api_docs/python/tf/variable_scope) to share variables between training and inference."
   ]
  },
  {
   "cell_type": "code",
   "execution_count": 12,
   "metadata": {},
   "outputs": [
    {
     "name": "stdout",
     "output_type": "stream",
     "text": [
      "Tests Passed\n"
     ]
    }
   ],
   "source": [
    "def decoding_layer(dec_input, encoder_state,\n",
    "                   target_sequence_length, max_target_sequence_length,\n",
    "                   rnn_size,\n",
    "                   num_layers, target_vocab_to_int, target_vocab_size,\n",
    "                   batch_size, keep_prob, decoding_embedding_size):\n",
    "    \"\"\"\n",
    "    Create decoding layer\n",
    "    :param dec_input: Decoder input\n",
    "    :param encoder_state: Encoder state\n",
    "    :param target_sequence_length: The lengths of each sequence in the target batch\n",
    "    :param max_target_sequence_length: Maximum length of target sequences\n",
    "    :param rnn_size: RNN Size\n",
    "    :param num_layers: Number of layers\n",
    "    :param target_vocab_to_int: Dictionary to go from the target words to an id\n",
    "    :param target_vocab_size: Size of target vocabulary\n",
    "    :param batch_size: The size of the batch\n",
    "    :param keep_prob: Dropout keep probability\n",
    "    :param decoding_embedding_size: Decoding embedding size\n",
    "    :return: Tuple of (Training BasicDecoderOutput, Inference BasicDecoderOutput)\n",
    "    \"\"\"\n",
    "    \n",
    "    with tf.variable_scope('decoding_layer') as scope:\n",
    "        dec_embeddings = tf.Variable(tf.random_uniform((target_vocab_size, decoding_embedding_size), -1, 1))\n",
    "        dec_embed_input = tf.nn.embedding_lookup(dec_embeddings, dec_input)\n",
    "        \n",
    "        lstm_cells = []\n",
    "        for layer in range(num_layers):\n",
    "            lstm_cell = tf.contrib.rnn.LSTMCell(rnn_size, initializer=tf.random_uniform_initializer(-0.1, 0.1))\n",
    "            lstm_cell = tf.contrib.rnn.DropoutWrapper(lstm_cell, input_keep_prob=keep_prob)\n",
    "            lstm_cells.append(lstm_cell)\n",
    "\n",
    "        dec_cell = tf.contrib.rnn.MultiRNNCell(lstm_cells)\n",
    "\n",
    "        output_layer = Dense(target_vocab_size, kernel_initializer=tf.truncated_normal_initializer(mean=0.0, stddev=0.1))\n",
    "\n",
    "        training_output = decoding_layer_train(encoder_state,\n",
    "                                               dec_cell,\n",
    "                                               dec_embed_input,\n",
    "                                               target_sequence_length,\n",
    "                                               max_target_sequence_length,\n",
    "                                               output_layer,\n",
    "                                               keep_prob)\n",
    "        \n",
    "        scope.reuse_variables()\n",
    "        \n",
    "        inference_output = decoding_layer_infer(encoder_state,\n",
    "                                                dec_cell,\n",
    "                                                dec_embeddings,\n",
    "                                                target_vocab_to_int['<GO>'],\n",
    "                                                target_vocab_to_int['<EOS>'],\n",
    "                                                max_target_sequence_length,\n",
    "                                                target_vocab_size,\n",
    "                                                output_layer,\n",
    "                                                batch_size,\n",
    "                                                keep_prob)\n",
    "    \n",
    "    return training_output, inference_output\n",
    "\n",
    "\n",
    "\n",
    "\"\"\"\n",
    "DON'T MODIFY ANYTHING IN THIS CELL THAT IS BELOW THIS LINE\n",
    "\"\"\"\n",
    "tests.test_decoding_layer(decoding_layer)"
   ]
  },
  {
   "cell_type": "markdown",
   "metadata": {},
   "source": [
    "### Build the Neural Network\n",
    "Apply the functions you implemented above to:\n",
    "\n",
    "- Encode the input using your `encoding_layer(rnn_inputs, rnn_size, num_layers, keep_prob,  source_sequence_length, source_vocab_size, encoding_embedding_size)`.\n",
    "- Process target data using your `process_decoder_input(target_data, target_vocab_to_int, batch_size)` function.\n",
    "- Decode the encoded input using your `decoding_layer(dec_input, enc_state, target_sequence_length, max_target_sentence_length, rnn_size, num_layers, target_vocab_to_int, target_vocab_size, batch_size, keep_prob, dec_embedding_size)` function."
   ]
  },
  {
   "cell_type": "code",
   "execution_count": 13,
   "metadata": {},
   "outputs": [
    {
     "name": "stdout",
     "output_type": "stream",
     "text": [
      "Tests Passed\n"
     ]
    }
   ],
   "source": [
    "def seq2seq_model(input_data, target_data, keep_prob, batch_size,\n",
    "                  source_sequence_length, target_sequence_length,\n",
    "                  max_target_sentence_length,\n",
    "                  source_vocab_size, target_vocab_size,\n",
    "                  enc_embedding_size, dec_embedding_size,\n",
    "                  rnn_size, num_layers, target_vocab_to_int):\n",
    "    \"\"\"\n",
    "    Build the Sequence-to-Sequence part of the neural network\n",
    "    :param input_data: Input placeholder\n",
    "    :param target_data: Target placeholder\n",
    "    :param keep_prob: Dropout keep probability placeholder\n",
    "    :param batch_size: Batch Size\n",
    "    :param source_sequence_length: Sequence Lengths of source sequences in the batch\n",
    "    :param target_sequence_length: Sequence Lengths of target sequences in the batch\n",
    "    :param source_vocab_size: Source vocabulary size\n",
    "    :param target_vocab_size: Target vocabulary size\n",
    "    :param enc_embedding_size: Decoder embedding size\n",
    "    :param dec_embedding_size: Encoder embedding size\n",
    "    :param rnn_size: RNN Size\n",
    "    :param num_layers: Number of layers\n",
    "    :param target_vocab_to_int: Dictionary to go from the target words to an id\n",
    "    :return: Tuple of (Training BasicDecoderOutput, Inference BasicDecoderOutput)\n",
    "    \"\"\"\n",
    "    \n",
    "    _, encoder_state = encoding_layer(input_data,\n",
    "                                                    rnn_size,\n",
    "                                                    num_layers,\n",
    "                                                    keep_prob,\n",
    "                                                    source_sequence_length,\n",
    "                                                    source_vocab_size,\n",
    "                                                    enc_embedding_size)\n",
    "    \n",
    "    processed_target_data = process_decoder_input(target_data, target_vocab_to_int, batch_size)\n",
    "    \n",
    "    training_output, inference_output = decoding_layer(processed_target_data,\n",
    "                                                       encoder_state,\n",
    "                                                       target_sequence_length,\n",
    "                                                       tf.reduce_max(target_sequence_length),\n",
    "                                                       rnn_size,\n",
    "                                                       num_layers,\n",
    "                                                       target_vocab_to_int,\n",
    "                                                       target_vocab_size,\n",
    "                                                       batch_size,\n",
    "                                                       keep_prob,\n",
    "                                                       dec_embedding_size)\n",
    "    \n",
    "    return training_output, inference_output\n",
    "\n",
    "\n",
    "\"\"\"\n",
    "DON'T MODIFY ANYTHING IN THIS CELL THAT IS BELOW THIS LINE\n",
    "\"\"\"\n",
    "tests.test_seq2seq_model(seq2seq_model)"
   ]
  },
  {
   "cell_type": "markdown",
   "metadata": {},
   "source": [
    "## Neural Network Training\n",
    "### Hyperparameters\n",
    "Tune the following parameters:\n",
    "\n",
    "- Set `epochs` to the number of epochs.\n",
    "- Set `batch_size` to the batch size.\n",
    "- Set `rnn_size` to the size of the RNNs.\n",
    "- Set `num_layers` to the number of layers.\n",
    "- Set `encoding_embedding_size` to the size of the embedding for the encoder.\n",
    "- Set `decoding_embedding_size` to the size of the embedding for the decoder.\n",
    "- Set `learning_rate` to the learning rate.\n",
    "- Set `keep_probability` to the Dropout keep probability\n",
    "- Set `display_step` to state how many steps between each debug output statement"
   ]
  },
  {
   "cell_type": "code",
   "execution_count": 14,
   "metadata": {
    "collapsed": true
   },
   "outputs": [],
   "source": [
    "# Number of Epochs\n",
    "epochs = 12\n",
    "# Batch Size\n",
    "batch_size = 512\n",
    "# RNN Size\n",
    "rnn_size = 512\n",
    "# Number of Layers\n",
    "num_layers = 3\n",
    "# Embedding Size\n",
    "encoding_embedding_size = 200\n",
    "decoding_embedding_size = 200\n",
    "# Learning Rate\n",
    "learning_rate = 0.01\n",
    "# Dropout Keep Probability\n",
    "keep_probability = .8\n",
    "display_step = 20"
   ]
  },
  {
   "cell_type": "markdown",
   "metadata": {},
   "source": [
    "### Build the Graph\n",
    "Build the graph using the neural network you implemented."
   ]
  },
  {
   "cell_type": "code",
   "execution_count": 15,
   "metadata": {
    "collapsed": true
   },
   "outputs": [],
   "source": [
    "\"\"\"\n",
    "DON'T MODIFY ANYTHING IN THIS CELL\n",
    "\"\"\"\n",
    "save_path = 'checkpoints/dev'\n",
    "(source_int_text, target_int_text), (source_vocab_to_int, target_vocab_to_int), _ = helper.load_preprocess()\n",
    "max_target_sentence_length = max([len(sentence) for sentence in source_int_text])\n",
    "\n",
    "train_graph = tf.Graph()\n",
    "with train_graph.as_default():\n",
    "    input_data, targets, lr, keep_prob, target_sequence_length, max_target_sequence_length, source_sequence_length = model_inputs()\n",
    "\n",
    "    #sequence_length = tf.placeholder_with_default(max_target_sentence_length, None, name='sequence_length')\n",
    "    input_shape = tf.shape(input_data)\n",
    "\n",
    "    train_logits, inference_logits = seq2seq_model(tf.reverse(input_data, [-1]),\n",
    "                                                   targets,\n",
    "                                                   keep_prob,\n",
    "                                                   batch_size,\n",
    "                                                   source_sequence_length,\n",
    "                                                   target_sequence_length,\n",
    "                                                   max_target_sequence_length,\n",
    "                                                   len(source_vocab_to_int),\n",
    "                                                   len(target_vocab_to_int),\n",
    "                                                   encoding_embedding_size,\n",
    "                                                   decoding_embedding_size,\n",
    "                                                   rnn_size,\n",
    "                                                   num_layers,\n",
    "                                                   target_vocab_to_int)\n",
    "\n",
    "\n",
    "    training_logits = tf.identity(train_logits.rnn_output, name='logits')\n",
    "    inference_logits = tf.identity(inference_logits.sample_id, name='predictions')\n",
    "\n",
    "    masks = tf.sequence_mask(target_sequence_length, max_target_sequence_length, dtype=tf.float32, name='masks')\n",
    "\n",
    "    with tf.name_scope(\"optimization\"):\n",
    "        # Loss function\n",
    "        cost = tf.contrib.seq2seq.sequence_loss(\n",
    "            training_logits,\n",
    "            targets,\n",
    "            masks)\n",
    "\n",
    "        # Optimizer\n",
    "        optimizer = tf.train.AdamOptimizer(lr)\n",
    "\n",
    "        # Gradient Clipping\n",
    "        gradients = optimizer.compute_gradients(cost)\n",
    "        capped_gradients = [(tf.clip_by_value(grad, -1., 1.), var) for grad, var in gradients if grad is not None]\n",
    "        train_op = optimizer.apply_gradients(capped_gradients)\n"
   ]
  },
  {
   "cell_type": "markdown",
   "metadata": {},
   "source": [
    "Batch and pad the source and target sequences"
   ]
  },
  {
   "cell_type": "code",
   "execution_count": 16,
   "metadata": {
    "collapsed": true
   },
   "outputs": [],
   "source": [
    "\"\"\"\n",
    "DON'T MODIFY ANYTHING IN THIS CELL\n",
    "\"\"\"\n",
    "def pad_sentence_batch(sentence_batch, pad_int):\n",
    "    \"\"\"Pad sentences with <PAD> so that each sentence of a batch has the same length\"\"\"\n",
    "    max_sentence = max([len(sentence) for sentence in sentence_batch])\n",
    "    return [sentence + [pad_int] * (max_sentence - len(sentence)) for sentence in sentence_batch]\n",
    "\n",
    "\n",
    "def get_batches(sources, targets, batch_size, source_pad_int, target_pad_int):\n",
    "    \"\"\"Batch targets, sources, and the lengths of their sentences together\"\"\"\n",
    "    for batch_i in range(0, len(sources)//batch_size):\n",
    "        start_i = batch_i * batch_size\n",
    "\n",
    "        # Slice the right amount for the batch\n",
    "        sources_batch = sources[start_i:start_i + batch_size]\n",
    "        targets_batch = targets[start_i:start_i + batch_size]\n",
    "\n",
    "        # Pad\n",
    "        pad_sources_batch = np.array(pad_sentence_batch(sources_batch, source_pad_int))\n",
    "        pad_targets_batch = np.array(pad_sentence_batch(targets_batch, target_pad_int))\n",
    "\n",
    "        # Need the lengths for the _lengths parameters\n",
    "        pad_targets_lengths = []\n",
    "        for target in pad_targets_batch:\n",
    "            pad_targets_lengths.append(len(target))\n",
    "\n",
    "        pad_source_lengths = []\n",
    "        for source in pad_sources_batch:\n",
    "            pad_source_lengths.append(len(source))\n",
    "\n",
    "        yield pad_sources_batch, pad_targets_batch, pad_source_lengths, pad_targets_lengths\n"
   ]
  },
  {
   "cell_type": "markdown",
   "metadata": {},
   "source": [
    "### Train\n",
    "Train the neural network on the preprocessed data. If you have a hard time getting a good loss, check the forms to see if anyone is having the same problem."
   ]
  },
  {
   "cell_type": "code",
   "execution_count": 17,
   "metadata": {
    "scrolled": true
   },
   "outputs": [
    {
     "name": "stdout",
     "output_type": "stream",
     "text": [
      "Epoch   0 Batch   20/269 - Train Accuracy: 0.2999, Validation Accuracy: 0.3613, Loss: 2.8772\n",
      "Epoch   0 Batch   40/269 - Train Accuracy: 0.2920, Validation Accuracy: 0.3555, Loss: 2.4860\n",
      "Epoch   0 Batch   60/269 - Train Accuracy: 0.2581, Validation Accuracy: 0.2434, Loss: 1.6705\n",
      "Epoch   0 Batch   80/269 - Train Accuracy: 0.4089, Validation Accuracy: 0.4241, Loss: 1.1968\n",
      "Epoch   0 Batch  100/269 - Train Accuracy: 0.4108, Validation Accuracy: 0.4165, Loss: 0.9970\n",
      "Epoch   0 Batch  120/269 - Train Accuracy: 0.3785, Validation Accuracy: 0.4309, Loss: 0.9162\n",
      "Epoch   0 Batch  140/269 - Train Accuracy: 0.4518, Validation Accuracy: 0.4621, Loss: 0.8152\n",
      "Epoch   0 Batch  160/269 - Train Accuracy: 0.4368, Validation Accuracy: 0.4603, Loss: 0.7471\n",
      "Epoch   0 Batch  180/269 - Train Accuracy: 0.4576, Validation Accuracy: 0.4862, Loss: 0.7102\n",
      "Epoch   0 Batch  200/269 - Train Accuracy: 0.5033, Validation Accuracy: 0.5236, Loss: 0.7076\n",
      "Epoch   0 Batch  220/269 - Train Accuracy: 0.5160, Validation Accuracy: 0.5155, Loss: 0.6266\n",
      "Epoch   0 Batch  240/269 - Train Accuracy: 0.5690, Validation Accuracy: 0.5374, Loss: 0.5838\n",
      "Epoch   0 Batch  260/269 - Train Accuracy: 0.5300, Validation Accuracy: 0.5479, Loss: 0.6523\n",
      "Epoch   1 Batch   20/269 - Train Accuracy: 0.5738, Validation Accuracy: 0.5797, Loss: 0.6309\n",
      "Epoch   1 Batch   40/269 - Train Accuracy: 0.5389, Validation Accuracy: 0.5621, Loss: 0.6289\n",
      "Epoch   1 Batch   60/269 - Train Accuracy: 0.6012, Validation Accuracy: 0.5933, Loss: 0.5575\n",
      "Epoch   1 Batch   80/269 - Train Accuracy: 0.6035, Validation Accuracy: 0.6062, Loss: 0.5627\n",
      "Epoch   1 Batch  100/269 - Train Accuracy: 0.6045, Validation Accuracy: 0.6023, Loss: 0.5449\n",
      "Epoch   1 Batch  120/269 - Train Accuracy: 0.5742, Validation Accuracy: 0.5947, Loss: 0.5679\n",
      "Epoch   1 Batch  140/269 - Train Accuracy: 0.6150, Validation Accuracy: 0.6232, Loss: 0.5468\n",
      "Epoch   1 Batch  160/269 - Train Accuracy: 0.6086, Validation Accuracy: 0.6128, Loss: 0.5240\n",
      "Epoch   1 Batch  180/269 - Train Accuracy: 0.6102, Validation Accuracy: 0.6191, Loss: 0.5106\n",
      "Epoch   1 Batch  200/269 - Train Accuracy: 0.6232, Validation Accuracy: 0.6395, Loss: 0.5142\n",
      "Epoch   1 Batch  220/269 - Train Accuracy: 0.6365, Validation Accuracy: 0.6382, Loss: 0.4598\n",
      "Epoch   1 Batch  240/269 - Train Accuracy: 0.6701, Validation Accuracy: 0.6389, Loss: 0.4289\n",
      "Epoch   1 Batch  260/269 - Train Accuracy: 0.6270, Validation Accuracy: 0.6478, Loss: 0.4894\n",
      "Epoch   2 Batch   20/269 - Train Accuracy: 0.6466, Validation Accuracy: 0.6612, Loss: 0.4720\n",
      "Epoch   2 Batch   40/269 - Train Accuracy: 0.6427, Validation Accuracy: 0.6473, Loss: 0.4598\n",
      "Epoch   2 Batch   60/269 - Train Accuracy: 0.6625, Validation Accuracy: 0.6436, Loss: 0.4035\n",
      "Epoch   2 Batch   80/269 - Train Accuracy: 0.6517, Validation Accuracy: 0.6448, Loss: 0.4098\n",
      "Epoch   2 Batch  100/269 - Train Accuracy: 0.6815, Validation Accuracy: 0.6744, Loss: 0.3858\n",
      "Epoch   2 Batch  120/269 - Train Accuracy: 0.6606, Validation Accuracy: 0.6642, Loss: 0.3960\n",
      "Epoch   2 Batch  140/269 - Train Accuracy: 0.6802, Validation Accuracy: 0.6774, Loss: 0.3779\n",
      "Epoch   2 Batch  160/269 - Train Accuracy: 0.6961, Validation Accuracy: 0.6971, Loss: 0.3497\n",
      "Epoch   2 Batch  180/269 - Train Accuracy: 0.6947, Validation Accuracy: 0.6746, Loss: 0.3445\n",
      "Epoch   2 Batch  200/269 - Train Accuracy: 0.6890, Validation Accuracy: 0.6933, Loss: 0.3566\n",
      "Epoch   2 Batch  220/269 - Train Accuracy: 0.7040, Validation Accuracy: 0.6904, Loss: 0.3187\n",
      "Epoch   2 Batch  240/269 - Train Accuracy: 0.7343, Validation Accuracy: 0.7026, Loss: 0.2882\n",
      "Epoch   2 Batch  260/269 - Train Accuracy: 0.7067, Validation Accuracy: 0.7180, Loss: 0.3179\n",
      "Epoch   3 Batch   20/269 - Train Accuracy: 0.7337, Validation Accuracy: 0.7380, Loss: 0.3079\n",
      "Epoch   3 Batch   40/269 - Train Accuracy: 0.7225, Validation Accuracy: 0.7349, Loss: 0.2933\n",
      "Epoch   3 Batch   60/269 - Train Accuracy: 0.7662, Validation Accuracy: 0.7609, Loss: 0.2617\n",
      "Epoch   3 Batch   80/269 - Train Accuracy: 0.7524, Validation Accuracy: 0.7589, Loss: 0.2542\n",
      "Epoch   3 Batch  100/269 - Train Accuracy: 0.7746, Validation Accuracy: 0.7447, Loss: 0.2411\n",
      "Epoch   3 Batch  120/269 - Train Accuracy: 0.7695, Validation Accuracy: 0.7723, Loss: 0.2382\n",
      "Epoch   3 Batch  140/269 - Train Accuracy: 0.7697, Validation Accuracy: 0.7660, Loss: 0.2276\n",
      "Epoch   3 Batch  160/269 - Train Accuracy: 0.7862, Validation Accuracy: 0.7665, Loss: 0.2058\n",
      "Epoch   3 Batch  180/269 - Train Accuracy: 0.7943, Validation Accuracy: 0.7747, Loss: 0.2086\n",
      "Epoch   3 Batch  200/269 - Train Accuracy: 0.8021, Validation Accuracy: 0.7824, Loss: 0.2027\n",
      "Epoch   3 Batch  220/269 - Train Accuracy: 0.7983, Validation Accuracy: 0.7923, Loss: 0.1957\n",
      "Epoch   3 Batch  240/269 - Train Accuracy: 0.8103, Validation Accuracy: 0.7798, Loss: 0.1650\n",
      "Epoch   3 Batch  260/269 - Train Accuracy: 0.8042, Validation Accuracy: 0.8140, Loss: 0.1896\n",
      "Epoch   4 Batch   20/269 - Train Accuracy: 0.7868, Validation Accuracy: 0.8021, Loss: 0.1836\n",
      "Epoch   4 Batch   40/269 - Train Accuracy: 0.7759, Validation Accuracy: 0.8029, Loss: 0.1736\n",
      "Epoch   4 Batch   60/269 - Train Accuracy: 0.8336, Validation Accuracy: 0.8136, Loss: 0.1472\n",
      "Epoch   4 Batch   80/269 - Train Accuracy: 0.8206, Validation Accuracy: 0.8202, Loss: 0.1439\n",
      "Epoch   4 Batch  100/269 - Train Accuracy: 0.8497, Validation Accuracy: 0.8311, Loss: 0.1429\n",
      "Epoch   4 Batch  120/269 - Train Accuracy: 0.8296, Validation Accuracy: 0.8360, Loss: 0.1476\n",
      "Epoch   4 Batch  140/269 - Train Accuracy: 0.8277, Validation Accuracy: 0.8110, Loss: 0.1441\n",
      "Epoch   4 Batch  160/269 - Train Accuracy: 0.8583, Validation Accuracy: 0.8677, Loss: 0.1181\n",
      "Epoch   4 Batch  180/269 - Train Accuracy: 0.8656, Validation Accuracy: 0.8572, Loss: 0.1276\n",
      "Epoch   4 Batch  200/269 - Train Accuracy: 0.8583, Validation Accuracy: 0.8501, Loss: 0.1206\n",
      "Epoch   4 Batch  220/269 - Train Accuracy: 0.8555, Validation Accuracy: 0.8568, Loss: 0.1087\n",
      "Epoch   4 Batch  240/269 - Train Accuracy: 0.8800, Validation Accuracy: 0.8663, Loss: 0.0995\n",
      "Epoch   4 Batch  260/269 - Train Accuracy: 0.8734, Validation Accuracy: 0.8804, Loss: 0.1129\n",
      "Epoch   5 Batch   20/269 - Train Accuracy: 0.8785, Validation Accuracy: 0.8895, Loss: 0.1087\n",
      "Epoch   5 Batch   40/269 - Train Accuracy: 0.8687, Validation Accuracy: 0.8791, Loss: 0.1077\n",
      "Epoch   5 Batch   60/269 - Train Accuracy: 0.8937, Validation Accuracy: 0.8928, Loss: 0.0935\n",
      "Epoch   5 Batch   80/269 - Train Accuracy: 0.9008, Validation Accuracy: 0.8999, Loss: 0.0907\n",
      "Epoch   5 Batch  100/269 - Train Accuracy: 0.8942, Validation Accuracy: 0.9016, Loss: 0.0873\n",
      "Epoch   5 Batch  120/269 - Train Accuracy: 0.8950, Validation Accuracy: 0.8981, Loss: 0.0855\n",
      "Epoch   5 Batch  140/269 - Train Accuracy: 0.9103, Validation Accuracy: 0.9080, Loss: 0.0800\n",
      "Epoch   5 Batch  160/269 - Train Accuracy: 0.9108, Validation Accuracy: 0.9263, Loss: 0.0677\n",
      "Epoch   5 Batch  180/269 - Train Accuracy: 0.9175, Validation Accuracy: 0.9172, Loss: 0.0717\n",
      "Epoch   5 Batch  200/269 - Train Accuracy: 0.9317, Validation Accuracy: 0.9242, Loss: 0.0655\n",
      "Epoch   5 Batch  220/269 - Train Accuracy: 0.9215, Validation Accuracy: 0.9182, Loss: 0.0656\n",
      "Epoch   5 Batch  240/269 - Train Accuracy: 0.9284, Validation Accuracy: 0.9264, Loss: 0.0607\n",
      "Epoch   5 Batch  260/269 - Train Accuracy: 0.9217, Validation Accuracy: 0.9210, Loss: 0.0683\n",
      "Epoch   6 Batch   20/269 - Train Accuracy: 0.9222, Validation Accuracy: 0.9238, Loss: 0.0657\n",
      "Epoch   6 Batch   40/269 - Train Accuracy: 0.9150, Validation Accuracy: 0.9303, Loss: 0.0642\n",
      "Epoch   6 Batch   60/269 - Train Accuracy: 0.9234, Validation Accuracy: 0.9220, Loss: 0.0555\n",
      "Epoch   6 Batch   80/269 - Train Accuracy: 0.9279, Validation Accuracy: 0.9253, Loss: 0.0599\n",
      "Epoch   6 Batch  100/269 - Train Accuracy: 0.9320, Validation Accuracy: 0.9300, Loss: 0.0592\n",
      "Epoch   6 Batch  120/269 - Train Accuracy: 0.9336, Validation Accuracy: 0.9319, Loss: 0.0516\n",
      "Epoch   6 Batch  140/269 - Train Accuracy: 0.9406, Validation Accuracy: 0.9308, Loss: 0.0507\n",
      "Epoch   6 Batch  160/269 - Train Accuracy: 0.9325, Validation Accuracy: 0.9284, Loss: 0.0520\n",
      "Epoch   6 Batch  180/269 - Train Accuracy: 0.9419, Validation Accuracy: 0.9325, Loss: 0.0534\n",
      "Epoch   6 Batch  200/269 - Train Accuracy: 0.9424, Validation Accuracy: 0.9331, Loss: 0.0470\n",
      "Epoch   6 Batch  220/269 - Train Accuracy: 0.9350, Validation Accuracy: 0.9382, Loss: 0.0431\n"
     ]
    },
    {
     "name": "stdout",
     "output_type": "stream",
     "text": [
      "Epoch   6 Batch  240/269 - Train Accuracy: 0.9440, Validation Accuracy: 0.9399, Loss: 0.0430\n",
      "Epoch   6 Batch  260/269 - Train Accuracy: 0.9392, Validation Accuracy: 0.9498, Loss: 0.0460\n",
      "Epoch   7 Batch   20/269 - Train Accuracy: 0.9389, Validation Accuracy: 0.9359, Loss: 0.0462\n",
      "Epoch   7 Batch   40/269 - Train Accuracy: 0.9513, Validation Accuracy: 0.9464, Loss: 0.0425\n",
      "Epoch   7 Batch   60/269 - Train Accuracy: 0.9554, Validation Accuracy: 0.9480, Loss: 0.0420\n",
      "Epoch   7 Batch   80/269 - Train Accuracy: 0.9490, Validation Accuracy: 0.9448, Loss: 0.0395\n",
      "Epoch   7 Batch  100/269 - Train Accuracy: 0.9412, Validation Accuracy: 0.9468, Loss: 0.0398\n",
      "Epoch   7 Batch  120/269 - Train Accuracy: 0.9463, Validation Accuracy: 0.9510, Loss: 0.0369\n",
      "Epoch   7 Batch  140/269 - Train Accuracy: 0.9514, Validation Accuracy: 0.9470, Loss: 0.0390\n",
      "Epoch   7 Batch  160/269 - Train Accuracy: 0.9393, Validation Accuracy: 0.9513, Loss: 0.0399\n",
      "Epoch   7 Batch  180/269 - Train Accuracy: 0.9574, Validation Accuracy: 0.9466, Loss: 0.0318\n",
      "Epoch   7 Batch  200/269 - Train Accuracy: 0.9529, Validation Accuracy: 0.9466, Loss: 0.0360\n",
      "Epoch   7 Batch  220/269 - Train Accuracy: 0.9201, Validation Accuracy: 0.9165, Loss: 0.0631\n",
      "Epoch   7 Batch  240/269 - Train Accuracy: 0.9559, Validation Accuracy: 0.9439, Loss: 0.0384\n",
      "Epoch   7 Batch  260/269 - Train Accuracy: 0.9418, Validation Accuracy: 0.9496, Loss: 0.0392\n",
      "Epoch   8 Batch   20/269 - Train Accuracy: 0.9424, Validation Accuracy: 0.9369, Loss: 0.0343\n",
      "Epoch   8 Batch   40/269 - Train Accuracy: 0.9551, Validation Accuracy: 0.9511, Loss: 0.0389\n",
      "Epoch   8 Batch   60/269 - Train Accuracy: 0.9617, Validation Accuracy: 0.9507, Loss: 0.0305\n",
      "Epoch   8 Batch   80/269 - Train Accuracy: 0.9488, Validation Accuracy: 0.9462, Loss: 0.0320\n",
      "Epoch   8 Batch  100/269 - Train Accuracy: 0.9469, Validation Accuracy: 0.9529, Loss: 0.0310\n",
      "Epoch   8 Batch  120/269 - Train Accuracy: 0.9521, Validation Accuracy: 0.9606, Loss: 0.0336\n",
      "Epoch   8 Batch  140/269 - Train Accuracy: 0.9581, Validation Accuracy: 0.9621, Loss: 0.0315\n",
      "Epoch   8 Batch  160/269 - Train Accuracy: 0.9515, Validation Accuracy: 0.9598, Loss: 0.0312\n",
      "Epoch   8 Batch  180/269 - Train Accuracy: 0.9630, Validation Accuracy: 0.9539, Loss: 0.0313\n",
      "Epoch   8 Batch  200/269 - Train Accuracy: 0.9703, Validation Accuracy: 0.9591, Loss: 0.0267\n",
      "Epoch   8 Batch  220/269 - Train Accuracy: 0.9559, Validation Accuracy: 0.9604, Loss: 0.0297\n",
      "Epoch   8 Batch  240/269 - Train Accuracy: 0.9637, Validation Accuracy: 0.9522, Loss: 0.0302\n",
      "Epoch   8 Batch  260/269 - Train Accuracy: 0.9533, Validation Accuracy: 0.9550, Loss: 0.0300\n",
      "Epoch   9 Batch   20/269 - Train Accuracy: 0.9518, Validation Accuracy: 0.9501, Loss: 0.0282\n",
      "Epoch   9 Batch   40/269 - Train Accuracy: 0.9604, Validation Accuracy: 0.9537, Loss: 0.0303\n",
      "Epoch   9 Batch   60/269 - Train Accuracy: 0.9654, Validation Accuracy: 0.9583, Loss: 0.0273\n",
      "Epoch   9 Batch   80/269 - Train Accuracy: 0.9563, Validation Accuracy: 0.9545, Loss: 0.0297\n",
      "Epoch   9 Batch  100/269 - Train Accuracy: 0.9475, Validation Accuracy: 0.9561, Loss: 0.0323\n",
      "Epoch   9 Batch  120/269 - Train Accuracy: 0.9469, Validation Accuracy: 0.9566, Loss: 0.0308\n",
      "Epoch   9 Batch  140/269 - Train Accuracy: 0.9534, Validation Accuracy: 0.9627, Loss: 0.0314\n",
      "Epoch   9 Batch  160/269 - Train Accuracy: 0.9674, Validation Accuracy: 0.9620, Loss: 0.0349\n",
      "Epoch   9 Batch  180/269 - Train Accuracy: 0.9642, Validation Accuracy: 0.9592, Loss: 0.0286\n",
      "Epoch   9 Batch  200/269 - Train Accuracy: 0.9768, Validation Accuracy: 0.9594, Loss: 0.0246\n",
      "Epoch   9 Batch  220/269 - Train Accuracy: 0.9453, Validation Accuracy: 0.9527, Loss: 0.0289\n",
      "Epoch   9 Batch  240/269 - Train Accuracy: 0.9641, Validation Accuracy: 0.9519, Loss: 0.0259\n",
      "Epoch   9 Batch  260/269 - Train Accuracy: 0.9578, Validation Accuracy: 0.9535, Loss: 0.0281\n",
      "Epoch  10 Batch   20/269 - Train Accuracy: 0.9548, Validation Accuracy: 0.9575, Loss: 0.0266\n",
      "Epoch  10 Batch   40/269 - Train Accuracy: 0.9558, Validation Accuracy: 0.9498, Loss: 0.0430\n",
      "Epoch  10 Batch   60/269 - Train Accuracy: 0.9616, Validation Accuracy: 0.9620, Loss: 0.0331\n",
      "Epoch  10 Batch   80/269 - Train Accuracy: 0.9579, Validation Accuracy: 0.9562, Loss: 0.0300\n",
      "Epoch  10 Batch  100/269 - Train Accuracy: 0.9550, Validation Accuracy: 0.9622, Loss: 0.0327\n",
      "Epoch  10 Batch  120/269 - Train Accuracy: 0.9535, Validation Accuracy: 0.9579, Loss: 0.0303\n",
      "Epoch  10 Batch  140/269 - Train Accuracy: 0.9647, Validation Accuracy: 0.9613, Loss: 0.0304\n",
      "Epoch  10 Batch  160/269 - Train Accuracy: 0.9573, Validation Accuracy: 0.9607, Loss: 0.0287\n",
      "Epoch  10 Batch  180/269 - Train Accuracy: 0.9613, Validation Accuracy: 0.9556, Loss: 0.0283\n",
      "Epoch  10 Batch  200/269 - Train Accuracy: 0.9719, Validation Accuracy: 0.9571, Loss: 0.0240\n",
      "Epoch  10 Batch  220/269 - Train Accuracy: 0.9521, Validation Accuracy: 0.9613, Loss: 0.0273\n",
      "Epoch  10 Batch  240/269 - Train Accuracy: 0.9672, Validation Accuracy: 0.9623, Loss: 0.0230\n",
      "Epoch  10 Batch  260/269 - Train Accuracy: 0.9621, Validation Accuracy: 0.9559, Loss: 0.0241\n",
      "Epoch  11 Batch   20/269 - Train Accuracy: 0.9620, Validation Accuracy: 0.9561, Loss: 0.0259\n",
      "Epoch  11 Batch   40/269 - Train Accuracy: 0.9616, Validation Accuracy: 0.9581, Loss: 0.0269\n",
      "Epoch  11 Batch   60/269 - Train Accuracy: 0.9602, Validation Accuracy: 0.9636, Loss: 0.0271\n",
      "Epoch  11 Batch   80/269 - Train Accuracy: 0.9622, Validation Accuracy: 0.9644, Loss: 0.0258\n",
      "Epoch  11 Batch  100/269 - Train Accuracy: 0.9554, Validation Accuracy: 0.9581, Loss: 0.0253\n",
      "Epoch  11 Batch  120/269 - Train Accuracy: 0.9516, Validation Accuracy: 0.9593, Loss: 0.0259\n",
      "Epoch  11 Batch  140/269 - Train Accuracy: 0.9623, Validation Accuracy: 0.9710, Loss: 0.0238\n",
      "Epoch  11 Batch  160/269 - Train Accuracy: 0.9612, Validation Accuracy: 0.9637, Loss: 0.0232\n",
      "Epoch  11 Batch  180/269 - Train Accuracy: 0.9748, Validation Accuracy: 0.9695, Loss: 0.0219\n",
      "Epoch  11 Batch  200/269 - Train Accuracy: 0.9750, Validation Accuracy: 0.9677, Loss: 0.0245\n",
      "Epoch  11 Batch  220/269 - Train Accuracy: 0.9529, Validation Accuracy: 0.9683, Loss: 0.0239\n",
      "Epoch  11 Batch  240/269 - Train Accuracy: 0.9651, Validation Accuracy: 0.9670, Loss: 0.0201\n",
      "Epoch  11 Batch  260/269 - Train Accuracy: 0.9695, Validation Accuracy: 0.9655, Loss: 0.0253\n",
      "Model Trained and Saved\n"
     ]
    }
   ],
   "source": [
    "\"\"\"\n",
    "DON'T MODIFY ANYTHING IN THIS CELL\n",
    "\"\"\"\n",
    "def get_accuracy(target, logits):\n",
    "    \"\"\"\n",
    "    Calculate accuracy\n",
    "    \"\"\"\n",
    "    max_seq = max(target.shape[1], logits.shape[1])\n",
    "    if max_seq - target.shape[1]:\n",
    "        target = np.pad(\n",
    "            target,\n",
    "            [(0,0),(0,max_seq - target.shape[1])],\n",
    "            'constant')\n",
    "    if max_seq - logits.shape[1]:\n",
    "        logits = np.pad(\n",
    "            logits,\n",
    "            [(0,0),(0,max_seq - logits.shape[1])],\n",
    "            'constant')\n",
    "\n",
    "    return np.mean(np.equal(target, logits))\n",
    "\n",
    "# Split data to training and validation sets\n",
    "train_source = source_int_text[batch_size:]\n",
    "train_target = target_int_text[batch_size:]\n",
    "valid_source = source_int_text[:batch_size]\n",
    "valid_target = target_int_text[:batch_size]\n",
    "(valid_sources_batch, valid_targets_batch, valid_sources_lengths, valid_targets_lengths ) = next(get_batches(valid_source,\n",
    "                                                                                                             valid_target,\n",
    "                                                                                                             batch_size,\n",
    "                                                                                                             source_vocab_to_int['<PAD>'],\n",
    "                                                                                                             target_vocab_to_int['<PAD>']))                                                                                                  \n",
    "with tf.Session(graph=train_graph) as sess:\n",
    "    sess.run(tf.global_variables_initializer())\n",
    "\n",
    "    for epoch_i in range(epochs):\n",
    "        for batch_i, (source_batch, target_batch, sources_lengths, targets_lengths) in enumerate(\n",
    "                get_batches(train_source, train_target, batch_size,\n",
    "                            source_vocab_to_int['<PAD>'],\n",
    "                            target_vocab_to_int['<PAD>'])):\n",
    "\n",
    "            _, loss = sess.run(\n",
    "                [train_op, cost],\n",
    "                {input_data: source_batch,\n",
    "                 targets: target_batch,\n",
    "                 lr: learning_rate,\n",
    "                 target_sequence_length: targets_lengths,\n",
    "                 source_sequence_length: sources_lengths,\n",
    "                 keep_prob: keep_probability})\n",
    "\n",
    "\n",
    "            if batch_i % display_step == 0 and batch_i > 0:\n",
    "\n",
    "\n",
    "                batch_train_logits = sess.run(\n",
    "                    inference_logits,\n",
    "                    {input_data: source_batch,\n",
    "                     source_sequence_length: sources_lengths,\n",
    "                     target_sequence_length: targets_lengths,\n",
    "                     keep_prob: 1.0})\n",
    "\n",
    "\n",
    "                batch_valid_logits = sess.run(\n",
    "                    inference_logits,\n",
    "                    {input_data: valid_sources_batch,\n",
    "                     source_sequence_length: valid_sources_lengths,\n",
    "                     target_sequence_length: valid_targets_lengths,\n",
    "                     keep_prob: 1.0})\n",
    "\n",
    "                train_acc = get_accuracy(target_batch, batch_train_logits)\n",
    "\n",
    "                valid_acc = get_accuracy(valid_targets_batch, batch_valid_logits)\n",
    "\n",
    "                print('Epoch {:>3} Batch {:>4}/{} - Train Accuracy: {:>6.4f}, Validation Accuracy: {:>6.4f}, Loss: {:>6.4f}'\n",
    "                      .format(epoch_i, batch_i, len(source_int_text) // batch_size, train_acc, valid_acc, loss))\n",
    "\n",
    "    # Save Model\n",
    "    saver = tf.train.Saver()\n",
    "    saver.save(sess, save_path)\n",
    "    print('Model Trained and Saved')"
   ]
  },
  {
   "cell_type": "markdown",
   "metadata": {},
   "source": [
    "### Save Parameters\n",
    "Save the `batch_size` and `save_path` parameters for inference."
   ]
  },
  {
   "cell_type": "code",
   "execution_count": 18,
   "metadata": {
    "collapsed": true
   },
   "outputs": [],
   "source": [
    "\"\"\"\n",
    "DON'T MODIFY ANYTHING IN THIS CELL\n",
    "\"\"\"\n",
    "# Save parameters for checkpoint\n",
    "helper.save_params(save_path)"
   ]
  },
  {
   "cell_type": "markdown",
   "metadata": {},
   "source": [
    "# Checkpoint"
   ]
  },
  {
   "cell_type": "code",
   "execution_count": 19,
   "metadata": {
    "collapsed": true
   },
   "outputs": [],
   "source": [
    "\"\"\"\n",
    "DON'T MODIFY ANYTHING IN THIS CELL\n",
    "\"\"\"\n",
    "import tensorflow as tf\n",
    "import numpy as np\n",
    "import helper\n",
    "import problem_unittests as tests\n",
    "\n",
    "_, (source_vocab_to_int, target_vocab_to_int), (source_int_to_vocab, target_int_to_vocab) = helper.load_preprocess()\n",
    "load_path = helper.load_params()"
   ]
  },
  {
   "cell_type": "markdown",
   "metadata": {},
   "source": [
    "## Sentence to Sequence\n",
    "To feed a sentence into the model for translation, you first need to preprocess it.  Implement the function `sentence_to_seq()` to preprocess new sentences.\n",
    "\n",
    "- Convert the sentence to lowercase\n",
    "- Convert words into ids using `vocab_to_int`\n",
    " - Convert words not in the vocabulary, to the `<UNK>` word id."
   ]
  },
  {
   "cell_type": "code",
   "execution_count": 21,
   "metadata": {},
   "outputs": [
    {
     "name": "stdout",
     "output_type": "stream",
     "text": [
      "Tests Passed\n"
     ]
    }
   ],
   "source": [
    "def sentence_to_seq(sentence, vocab_to_int):\n",
    "    \"\"\"\n",
    "    Convert a sentence to a sequence of ids\n",
    "    :param sentence: String\n",
    "    :param vocab_to_int: Dictionary to go from the words to an id\n",
    "    :return: List of word ids\n",
    "    \"\"\"\n",
    "    sequence_ids = []\n",
    "    for word in sentence.lower().split():\n",
    "        if word in vocab_to_int:\n",
    "            sequence_ids.append(vocab_to_int[word])\n",
    "        else:\n",
    "            sequence_ids.append(vocab_to_int['<UNK>'])\n",
    "        \n",
    "    return sequence_ids\n",
    "\n",
    "\n",
    "\"\"\"\n",
    "DON'T MODIFY ANYTHING IN THIS CELL THAT IS BELOW THIS LINE\n",
    "\"\"\"\n",
    "tests.test_sentence_to_seq(sentence_to_seq)"
   ]
  },
  {
   "cell_type": "markdown",
   "metadata": {},
   "source": [
    "## Translate\n",
    "This will translate `translate_sentence` from English to French."
   ]
  },
  {
   "cell_type": "code",
   "execution_count": 22,
   "metadata": {},
   "outputs": [
    {
     "name": "stdout",
     "output_type": "stream",
     "text": [
      "INFO:tensorflow:Restoring parameters from checkpoints/dev\n",
      "Input\n",
      "  Word Ids:      [155, 132, 227, 185, 163, 164, 189]\n",
      "  English Words: ['he', 'saw', 'a', 'old', 'yellow', 'truck', '.']\n",
      "\n",
      "Prediction\n",
      "  Word Ids:      [237, 277, 86, 259, 131, 202, 16, 163, 1]\n",
      "  French Words: il a vu un vieux camion rouge . <EOS>\n"
     ]
    }
   ],
   "source": [
    "translate_sentence = 'he saw a old yellow truck .'\n",
    "\n",
    "\n",
    "\"\"\"\n",
    "DON'T MODIFY ANYTHING IN THIS CELL\n",
    "\"\"\"\n",
    "translate_sentence = sentence_to_seq(translate_sentence, source_vocab_to_int)\n",
    "\n",
    "loaded_graph = tf.Graph()\n",
    "with tf.Session(graph=loaded_graph) as sess:\n",
    "    # Load saved model\n",
    "    loader = tf.train.import_meta_graph(load_path + '.meta')\n",
    "    loader.restore(sess, load_path)\n",
    "\n",
    "    input_data = loaded_graph.get_tensor_by_name('input:0')\n",
    "    logits = loaded_graph.get_tensor_by_name('predictions:0')\n",
    "    target_sequence_length = loaded_graph.get_tensor_by_name('target_sequence_length:0')\n",
    "    source_sequence_length = loaded_graph.get_tensor_by_name('source_sequence_length:0')\n",
    "    keep_prob = loaded_graph.get_tensor_by_name('keep_prob:0')\n",
    "\n",
    "    translate_logits = sess.run(logits, {input_data: [translate_sentence]*batch_size,\n",
    "                                         target_sequence_length: [len(translate_sentence)*2]*batch_size,\n",
    "                                         source_sequence_length: [len(translate_sentence)]*batch_size,\n",
    "                                         keep_prob: 1.0})[0]\n",
    "\n",
    "print('Input')\n",
    "print('  Word Ids:      {}'.format([i for i in translate_sentence]))\n",
    "print('  English Words: {}'.format([source_int_to_vocab[i] for i in translate_sentence]))\n",
    "\n",
    "print('\\nPrediction')\n",
    "print('  Word Ids:      {}'.format([i for i in translate_logits]))\n",
    "print('  French Words: {}'.format(\" \".join([target_int_to_vocab[i] for i in translate_logits])))\n"
   ]
  },
  {
   "cell_type": "markdown",
   "metadata": {},
   "source": [
    "## Imperfect Translation\n",
    "You might notice that some sentences translate better than others.  Since the dataset you're using only has a vocabulary of 227 English words of the thousands that you use, you're only going to see good results using these words.  For this project, you don't need a perfect translation. However, if you want to create a better translation model, you'll need better data.\n",
    "\n",
    "You can train on the [WMT10 French-English corpus](http://www.statmt.org/wmt10/training-giga-fren.tar).  This dataset has more vocabulary and richer in topics discussed.  However, this will take you days to train, so make sure you've a GPU and the neural network is performing well on dataset we provided.  Just make sure you play with the WMT10 corpus after you've submitted this project.\n",
    "## Submitting This Project\n",
    "When submitting this project, make sure to run all the cells before saving the notebook. Save the notebook file as \"dlnd_language_translation.ipynb\" and save it as a HTML file under \"File\" -> \"Download as\". Include the \"helper.py\" and \"problem_unittests.py\" files in your submission."
   ]
  }
 ],
 "metadata": {
  "anaconda-cloud": {},
  "kernelspec": {
   "display_name": "Python 3",
   "language": "python",
   "name": "python3"
  },
  "language_info": {
   "codemirror_mode": {
    "name": "ipython",
    "version": 3
   },
   "file_extension": ".py",
   "mimetype": "text/x-python",
   "name": "python",
   "nbconvert_exporter": "python",
   "pygments_lexer": "ipython3",
   "version": "3.5.3"
  }
 },
 "nbformat": 4,
 "nbformat_minor": 1
}
